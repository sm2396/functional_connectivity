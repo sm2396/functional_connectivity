{
 "cells": [
  {
   "cell_type": "code",
   "execution_count": null,
   "id": "0b5dacdf",
   "metadata": {},
   "outputs": [],
   "source": [
    "#import necessary programs\n",
    "import numpy as np\n",
    "import scipy.stats as stats\n",
    "from scipy.stats import ttest_ind\n",
    "import matplotlib.pyplot as plt\n",
    "from scipy.stats import t\n",
    "import mne\n",
    "from mne.channels import make_standard_montage\n",
    "from mne.viz import plot_topomap\n",
    "import nilearn\n",
    "from nilearn import plotting\n",
    "import os\n",
    "from mne_connectivity import spectral_connectivity_epochs\n",
    "from mne.time_frequency import csd_fourier, csd_multitaper, csd_morlet\n",
    "\n",
    "n_jobs = 8 #number of cores to use"
   ]
  }
 ],
 "metadata": {
  "kernelspec": {
   "display_name": "Python 3 (ipykernel)",
   "language": "python",
   "name": "python3"
  },
  "language_info": {
   "codemirror_mode": {
    "name": "ipython",
    "version": 3
   },
   "file_extension": ".py",
   "mimetype": "text/x-python",
   "name": "python",
   "nbconvert_exporter": "python",
   "pygments_lexer": "ipython3",
   "version": "3.9.13"
  }
 },
 "nbformat": 4,
 "nbformat_minor": 5
}

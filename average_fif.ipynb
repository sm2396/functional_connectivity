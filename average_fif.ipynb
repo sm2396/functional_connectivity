{
 "cells": [
  {
   "cell_type": "code",
   "execution_count": null,
   "id": "acf2e836",
   "metadata": {},
   "outputs": [],
   "source": [
    "import mne"
   ]
  },
  {
   "cell_type": "code",
   "execution_count": null,
   "id": "474e515a",
   "metadata": {},
   "outputs": [],
   "source": [
    "#data_path\n",
    "input_path ='/Users/sanwedamahagabin/Desktop/patient_data/subject22_c272_dmpfc_60/'\n",
    "# Load the .fif files\n",
    "day1 = mne.io.read_raw_fif(input_path/'file1.fif', preload=True)\n",
    "day2 = mne.io.read_raw_fif('file2.fif', preload=True)\n",
    "day3 = mne.io.read_raw_fif('file3.fif', preload=True)\n",
    "day4 = mne.io.read_raw_fif('file4.fif', preload=True)\n",
    "day5 = mne.io.read_raw_fif('file5.fif', preload=True)"
   ]
  },
  {
   "cell_type": "code",
   "execution_count": null,
   "id": "25471238",
   "metadata": {},
   "outputs": [],
   "source": [
    "# Combine the data\n",
    "week = mne.concatenate_raws([day1, day2, day3, day4, day5])"
   ]
  },
  {
   "cell_type": "code",
   "execution_count": null,
   "id": "b69b4765",
   "metadata": {},
   "outputs": [],
   "source": [
    "# Compute the average\n",
    "avg_data = week.average()"
   ]
  },
  {
   "cell_type": "code",
   "execution_count": null,
   "id": "de0cc207",
   "metadata": {},
   "outputs": [],
   "source": [
    "# Save the averaged data\n",
    "avg_data.save('averaged_data.fif', overwrite=True)"
   ]
  }
 ],
 "metadata": {
  "kernelspec": {
   "display_name": "Python 3 (ipykernel)",
   "language": "python",
   "name": "python3"
  },
  "language_info": {
   "codemirror_mode": {
    "name": "ipython",
    "version": 3
   },
   "file_extension": ".py",
   "mimetype": "text/x-python",
   "name": "python",
   "nbconvert_exporter": "python",
   "pygments_lexer": "ipython3",
   "version": "3.9.13"
  }
 },
 "nbformat": 4,
 "nbformat_minor": 5
}
